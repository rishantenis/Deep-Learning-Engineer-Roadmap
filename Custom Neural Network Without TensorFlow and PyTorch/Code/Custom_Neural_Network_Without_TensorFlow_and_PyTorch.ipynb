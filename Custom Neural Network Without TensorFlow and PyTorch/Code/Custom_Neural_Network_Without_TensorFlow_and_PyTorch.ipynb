{
  "nbformat": 4,
  "nbformat_minor": 0,
  "metadata": {
    "colab": {
      "provenance": []
    },
    "kernelspec": {
      "name": "python3",
      "display_name": "Python 3"
    },
    "language_info": {
      "name": "python"
    }
  },
  "cells": [
    {
      "cell_type": "code",
      "execution_count": 26,
      "metadata": {
        "id": "MVv2xaLtBYIh"
      },
      "outputs": [],
      "source": [
        "import numpy as np\n",
        "import matplotlib.pyplot as plt"
      ]
    },
    {
      "cell_type": "code",
      "source": [
        "def sigmoid_activation_function(x):\n",
        "  return 1 / (1+np.exp(-x))"
      ],
      "metadata": {
        "id": "CTMAnVa-BkIJ"
      },
      "execution_count": 27,
      "outputs": []
    },
    {
      "cell_type": "code",
      "source": [
        "def relu_activation_function(x):\n",
        "  return np.maximum(0, x)"
      ],
      "metadata": {
        "id": "sp8IRgWsCITj"
      },
      "execution_count": 28,
      "outputs": []
    },
    {
      "cell_type": "code",
      "source": [
        "def sigmoid_back(dA, x):\n",
        "  sigmoid = sigmoid_activation_function(x)\n",
        "  return dA*sigmoid*(1-sigmoid)"
      ],
      "metadata": {
        "id": "r0N_uXX4C7GJ"
      },
      "execution_count": 29,
      "outputs": []
    },
    {
      "cell_type": "code",
      "source": [
        "def relu_back(dA, x):\n",
        "  dx = np.array(dA, copy =True)\n",
        "  dx[x <= 0] = 0\n",
        "  return dx"
      ],
      "metadata": {
        "id": "eCGlAm44DitC"
      },
      "execution_count": 30,
      "outputs": []
    },
    {
      "cell_type": "code",
      "source": [
        "'a'+'2'"
      ],
      "metadata": {
        "colab": {
          "base_uri": "https://localhost:8080/",
          "height": 35
        },
        "id": "k2TTtzI6FAkh",
        "outputId": "4b8dd428-a0dc-40e1-89d1-5f05f5520d5a"
      },
      "execution_count": 31,
      "outputs": [
        {
          "output_type": "execute_result",
          "data": {
            "text/plain": [
              "'a2'"
            ],
            "application/vnd.google.colaboratory.intrinsic+json": {
              "type": "string"
            }
          },
          "metadata": {},
          "execution_count": 31
        }
      ]
    },
    {
      "cell_type": "code",
      "source": [
        "np.random.randn(2, 1)"
      ],
      "metadata": {
        "colab": {
          "base_uri": "https://localhost:8080/"
        },
        "id": "7cyEMCq4FKQH",
        "outputId": "4daf7a2b-a47a-4b15-8436-781aa75ab1f5"
      },
      "execution_count": 32,
      "outputs": [
        {
          "output_type": "execute_result",
          "data": {
            "text/plain": [
              "array([[-0.01349722],\n",
              "       [-1.05771093]])"
            ]
          },
          "metadata": {},
          "execution_count": 32
        }
      ]
    },
    {
      "cell_type": "code",
      "source": [
        "np.random.randn(2, 1)*0.01"
      ],
      "metadata": {
        "colab": {
          "base_uri": "https://localhost:8080/"
        },
        "id": "wU6NVXH0FyNM",
        "outputId": "5469a16e-8b23-4b47-ab29-39114f204405"
      },
      "execution_count": 33,
      "outputs": [
        {
          "output_type": "execute_result",
          "data": {
            "text/plain": [
              "array([[ 0.00822545],\n",
              "       [-0.01220844]])"
            ]
          },
          "metadata": {},
          "execution_count": 33
        }
      ]
    },
    {
      "cell_type": "code",
      "source": [
        "np.zeros((3, 1))"
      ],
      "metadata": {
        "colab": {
          "base_uri": "https://localhost:8080/"
        },
        "id": "Sm5U_qLgGO3Q",
        "outputId": "905f983e-de0e-42e5-b7bd-8aa02e494a72"
      },
      "execution_count": 34,
      "outputs": [
        {
          "output_type": "execute_result",
          "data": {
            "text/plain": [
              "array([[0.],\n",
              "       [0.],\n",
              "       [0.]])"
            ]
          },
          "metadata": {},
          "execution_count": 34
        }
      ]
    },
    {
      "cell_type": "code",
      "source": [
        "def initilaize_deep_parameters(layer_dimension):\n",
        "  np.random.seed(42)\n",
        "  parameters = {}\n",
        "  L = len(layer_dimension)\n",
        "\n",
        "  for i in range(1, L):\n",
        "    parameters[\"W\"+ str(i)] = np.random.randn(layer_dimension[i], layer_dimension[i-1])*0.01\n",
        "    parameters[\"b\"+ str(i)] = np.zeros((layer_dimension[i], 1))\n",
        "\n",
        "  return parameters"
      ],
      "metadata": {
        "id": "Dt2V-Yq8D9BQ"
      },
      "execution_count": 35,
      "outputs": []
    },
    {
      "cell_type": "code",
      "source": [
        "initilaize_deep_parameters([2, 4, 4, 2])"
      ],
      "metadata": {
        "colab": {
          "base_uri": "https://localhost:8080/"
        },
        "id": "Ex0HedWiGizZ",
        "outputId": "1780d8c8-1caa-482a-90fa-403451c03c33"
      },
      "execution_count": 36,
      "outputs": [
        {
          "output_type": "execute_result",
          "data": {
            "text/plain": [
              "{'W1': array([[ 0.00496714, -0.00138264],\n",
              "        [ 0.00647689,  0.0152303 ],\n",
              "        [-0.00234153, -0.00234137],\n",
              "        [ 0.01579213,  0.00767435]]),\n",
              " 'b1': array([[0.],\n",
              "        [0.],\n",
              "        [0.],\n",
              "        [0.]]),\n",
              " 'W2': array([[-0.00469474,  0.0054256 , -0.00463418, -0.0046573 ],\n",
              "        [ 0.00241962, -0.0191328 , -0.01724918, -0.00562288],\n",
              "        [-0.01012831,  0.00314247, -0.00908024, -0.01412304],\n",
              "        [ 0.01465649, -0.00225776,  0.00067528, -0.01424748]]),\n",
              " 'b2': array([[0.],\n",
              "        [0.],\n",
              "        [0.],\n",
              "        [0.]]),\n",
              " 'W3': array([[-0.00544383,  0.00110923, -0.01150994,  0.00375698],\n",
              "        [-0.00600639, -0.00291694, -0.00601707,  0.01852278]]),\n",
              " 'b3': array([[0.],\n",
              "        [0.]])}"
            ]
          },
          "metadata": {},
          "execution_count": 36
        }
      ]
    },
    {
      "cell_type": "code",
      "source": [
        "def linear_forward(previous_data, weight, bias):\n",
        "  x = np.dot(weight, previous_data) + bias\n",
        "  linear_data = (previous_data, weight, bias)\n",
        "  return x, linear_data"
      ],
      "metadata": {
        "id": "cIdeKLVRIXWt"
      },
      "execution_count": 37,
      "outputs": []
    },
    {
      "cell_type": "code",
      "source": [
        "def linear_activation_function(previous_a, weight, bias, activation):\n",
        "  if activation == \"sigmoid\":\n",
        "    x, linear_data = linear_forward(previous_a, weight, bias)\n",
        "    update_data = sigmoid_activation_function(x)\n",
        "\n",
        "  elif activation == \"relu\":\n",
        "    x, linear_data = linear_forward(previous_a, weight, bias)\n",
        "    update_data = relu_activation_function(x)\n",
        "\n",
        "  history = (linear_data, x)\n",
        "  return update_data, history"
      ],
      "metadata": {
        "id": "859LCvz5Gsw6"
      },
      "execution_count": 38,
      "outputs": []
    },
    {
      "cell_type": "code",
      "source": [
        "def model_forward(x, parameters, activation):\n",
        "  histories = []\n",
        "  dummy_data = x\n",
        "  layer_len = len(parameters)//2\n",
        "\n",
        "  for i in range(1, layer_len):\n",
        "    previous_data = dummy_data\n",
        "    dummy_data, history = linear_activation_function(previous_data, parameters[\"W\"+ str(i)], parameters[\"b\"+ str(i)], activation[i-1])\n",
        "    histories.append(history)\n",
        "\n",
        "  dummy_data_store, history = linear_activation_function(previous_data, parameters[\"W\"+ str(layer_len)], parameters[\"b\"+ str(layer_len)], activation[layer_len-1])\n",
        "  histories.append(history)\n",
        "\n",
        "  return dummy_data_store, histories"
      ],
      "metadata": {
        "id": "zZiBpOWGJ-Yl"
      },
      "execution_count": 39,
      "outputs": []
    },
    {
      "cell_type": "code",
      "source": [
        "def compute_cost(dummy_data_store,test_data):\n",
        "  measure = test_data.shape[1]\n",
        "  cost = -np.sum(test_data*np.log(dummy_data_store) + (1 - test_data) * np.log(1-dummy_data_store)) / measure\n",
        "  cost  = np.squeeze(cost)\n",
        "  return cost"
      ],
      "metadata": {
        "id": "lPXo40I1L6nC"
      },
      "execution_count": 40,
      "outputs": []
    },
    {
      "cell_type": "code",
      "source": [],
      "metadata": {
        "id": "o0sUVXO-M2d8"
      },
      "execution_count": 40,
      "outputs": []
    }
  ]
}